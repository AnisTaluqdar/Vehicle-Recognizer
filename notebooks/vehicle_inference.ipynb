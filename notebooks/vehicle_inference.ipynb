{
  "nbformat": 4,
  "nbformat_minor": 0,
  "metadata": {
    "colab": {
      "provenance": []
    },
    "kernelspec": {
      "name": "python3",
      "display_name": "Python 3"
    },
    "language_info": {
      "name": "python"
    }
  },
  "cells": [
    {
      "cell_type": "markdown",
      "source": [
        "# Vehicle Recognizer\n",
        "\n",
        "The goal of this project is to classify 28 different types of vehicle commonly around the world.\n",
        "The types are following:\n",
        "\n",
        "1. Van\n",
        "2. Taxi\n",
        "3. Police car\n",
        "4. Bus\n",
        "5. Ambulance\n",
        "6. Skateboard\n",
        "7. Baby carriage\n",
        "8. Bicycle\n",
        "9. Mountain bike\n",
        "10. Scooter\n",
        "11. Motorcycle\n",
        "12. Fire engine\n",
        "13. Crane\n",
        "14. Forklift\n",
        "15. Tractor\n",
        "16. Recycling truck\n",
        "17. Cement mixer\n",
        "18. Dump truck\n",
        "19. Subway\n",
        "20. Aerial tramway\n",
        "21. Helicopter\n",
        "22. Airplane\n",
        "23. Balloon\n",
        "24. Tram\n",
        "25. Carriage\n",
        "26. Rowboat\n",
        "27. Boat\n",
        "28. Train"
      ],
      "metadata": {
        "id": "o4vUXIrn8e4c"
      }
    },
    {
      "cell_type": "markdown",
      "source": [
        "# Setting Up for Inference"
      ],
      "metadata": {
        "id": "qbx0pMaJ8kvb"
      }
    },
    {
      "cell_type": "code",
      "execution_count": null,
      "metadata": {
        "id": "eTNsTwpy8MG1"
      },
      "outputs": [],
      "source": [
        "!pip install -Uqq fastai"
      ]
    },
    {
      "cell_type": "code",
      "source": [
        "from fastai.vision.all import *"
      ],
      "metadata": {
        "id": "TkVRohVT9CAs"
      },
      "execution_count": null,
      "outputs": []
    },
    {
      "cell_type": "code",
      "source": [
        "from google.colab import drive\n",
        "drive.mount('/content/drive')"
      ],
      "metadata": {
        "colab": {
          "base_uri": "https://localhost:8080/"
        },
        "id": "ZWy2DuGg9FE9",
        "outputId": "f06a56c8-485d-44fe-8098-9a983c806be0"
      },
      "execution_count": null,
      "outputs": [
        {
          "output_type": "stream",
          "name": "stdout",
          "text": [
            "Mounted at /content/drive\n"
          ]
        }
      ]
    },
    {
      "cell_type": "code",
      "source": [
        "%cd /content/drive/My Drive/Vehicle Recognizer"
      ],
      "metadata": {
        "colab": {
          "base_uri": "https://localhost:8080/"
        },
        "id": "G2ieyrw69Ksj",
        "outputId": "1026397a-bb56-4fb8-ab5e-ad9b7f1ebf7e"
      },
      "execution_count": null,
      "outputs": [
        {
          "output_type": "stream",
          "name": "stdout",
          "text": [
            "/content/drive/My Drive/Vehicle Recognizer\n"
          ]
        }
      ]
    },
    {
      "cell_type": "code",
      "source": [
        "version = 1\n",
        "img_path = 'test_images'\n",
        "model_path = f'models/Vehicle-recognizer-v{version}.pkl'"
      ],
      "metadata": {
        "id": "kup6TBcx_M2M"
      },
      "execution_count": null,
      "outputs": []
    },
    {
      "cell_type": "code",
      "source": [
        "model = load_learner(model_path)"
      ],
      "metadata": {
        "id": "hJ1FiQLe_Stz"
      },
      "execution_count": null,
      "outputs": []
    },
    {
      "cell_type": "markdown",
      "source": [
        "# Inference 1\n",
        "\n",
        "Target: train"
      ],
      "metadata": {
        "id": "Yx4B2kFD_Vo3"
      }
    },
    {
      "cell_type": "code",
      "source": [
        "img = Image.open(f'{img_path}/train.jpg')\n",
        "img.to_thumb(128,128)"
      ],
      "metadata": {
        "colab": {
          "base_uri": "https://localhost:8080/",
          "height": 90
        },
        "id": "FmfvMtD4_bLG",
        "outputId": "9911c15e-57c9-4b03-b446-c69efad33fa6"
      },
      "execution_count": null,
      "outputs": [
        {
          "output_type": "execute_result",
          "data": {
            "text/plain": [
              "<PIL.Image.Image image mode=RGB size=128x73>"
            ],
            "image/png": "[encoded data removed]"
          },
          "metadata": {},
          "execution_count": 7
        }
      ]
    },
    {
      "cell_type": "code",
      "source": [
        "model.predict(f'{img_path}/train.jpg')"
      ],
      "metadata": {
        "colab": {
          "base_uri": "https://localhost:8080/",
          "height": 181
        },
        "id": "gsmxU07Z_jlp",
        "outputId": "7f658c3f-88a2-4115-f806-46d433c9d4b3"
      },
      "execution_count": null,
      "outputs": [
        {
          "output_type": "stream",
          "name": "stderr",
          "text": [
            "/usr/local/lib/python3.10/dist-packages/fastai/torch_core.py:263: UserWarning: 'has_mps' is deprecated, please use 'torch.backends.mps.is_built()'\n",
            "  return getattr(torch, 'has_mps', False)\n"
          ]
        },
        {
          "output_type": "display_data",
          "data": {
            "text/plain": [
              "<IPython.core.display.HTML object>"
            ],
            "text/html": [
              "\n",
              "<style>\n",
              "    /* Turns off some styling */\n",
              "    progress {\n",
              "        /* gets rid of default border in Firefox and Opera. */\n",
              "        border: none;\n",
              "        /* Needs to be in here for Safari polyfill so background images work as expected. */\n",
              "        background-size: auto;\n",
              "    }\n",
              "    progress:not([value]), progress:not([value])::-webkit-progress-bar {\n",
              "        background: repeating-linear-gradient(45deg, #7e7e7e, #7e7e7e 10px, #5c5c5c 10px, #5c5c5c 20px);\n",
              "    }\n",
              "    .progress-bar-interrupted, .progress-bar-interrupted::-webkit-progress-bar {\n",
              "        background: #F44336;\n",
              "    }\n",
              "</style>\n"
            ]
          },
          "metadata": {}
        },
        {
          "output_type": "display_data",
          "data": {
            "text/plain": [
              "<IPython.core.display.HTML object>"
            ],
            "text/html": []
          },
          "metadata": {}
        },
        {
          "output_type": "execute_result",
          "data": {
            "text/plain": [
              "('Train',\n",
              " tensor(25),\n",
              " tensor([3.7905e-08, 1.8800e-08, 1.9053e-10, 1.2700e-08, 1.6271e-08, 4.1059e-10,\n",
              "         2.4403e-09, 1.1287e-05, 5.7029e-05, 1.1456e-10, 1.8954e-08, 1.0428e-07,\n",
              "         2.1107e-09, 3.5221e-08, 2.0722e-10, 2.3134e-08, 5.0512e-09, 4.3719e-09,\n",
              "         1.2421e-08, 9.1551e-09, 1.0722e-08, 1.6093e-08, 2.1616e-05, 1.0873e-08,\n",
              "         2.5609e-07, 9.9551e-01, 4.4014e-03, 1.1341e-07]))"
            ]
          },
          "metadata": {},
          "execution_count": 8
        }
      ]
    },
    {
      "cell_type": "markdown",
      "source": [
        "# Inference 2\n",
        "\n",
        "Target: rowboat"
      ],
      "metadata": {
        "id": "Nafe5yhF_tc8"
      }
    },
    {
      "cell_type": "code",
      "source": [
        "img = Image.open(f'{img_path}/rowboat.jpg')\n",
        "img.to_thumb(128,128)"
      ],
      "metadata": {
        "colab": {
          "base_uri": "https://localhost:8080/",
          "height": 113
        },
        "id": "9QcwNMZX_pkD",
        "outputId": "6a99d675-f930-41d2-eea4-db4d6d0c1a14"
      },
      "execution_count": null,
      "outputs": [
        {
          "output_type": "execute_result",
          "data": {
            "text/plain": [
              "<PIL.Image.Image image mode=RGB size=128x96>"
            ],
            "image/png": "[encoded data removed]"
          },
          "metadata": {},
          "execution_count": 9
        }
      ]
    },
    {
      "cell_type": "code",
      "source": [
        "model.predict(f'{img_path}/rowboat.jpg')"
      ],
      "metadata": {
        "colab": {
          "base_uri": "https://localhost:8080/",
          "height": 145
        },
        "id": "DTj_3fVi_3C0",
        "outputId": "16568f8c-cbd9-478f-cbd9-9d45d44075a6"
      },
      "execution_count": null,
      "outputs": [
        {
          "output_type": "display_data",
          "data": {
            "text/plain": [
              "<IPython.core.display.HTML object>"
            ],
            "text/html": [
              "\n",
              "<style>\n",
              "    /* Turns off some styling */\n",
              "    progress {\n",
              "        /* gets rid of default border in Firefox and Opera. */\n",
              "        border: none;\n",
              "        /* Needs to be in here for Safari polyfill so background images work as expected. */\n",
              "        background-size: auto;\n",
              "    }\n",
              "    progress:not([value]), progress:not([value])::-webkit-progress-bar {\n",
              "        background: repeating-linear-gradient(45deg, #7e7e7e, #7e7e7e 10px, #5c5c5c 10px, #5c5c5c 20px);\n",
              "    }\n",
              "    .progress-bar-interrupted, .progress-bar-interrupted::-webkit-progress-bar {\n",
              "        background: #F44336;\n",
              "    }\n",
              "</style>\n"
            ]
          },
          "metadata": {}
        },
        {
          "output_type": "display_data",
          "data": {
            "text/plain": [
              "<IPython.core.display.HTML object>"
            ],
            "text/html": []
          },
          "metadata": {}
        },
        {
          "output_type": "execute_result",
          "data": {
            "text/plain": [
              "('Rowboat',\n",
              " tensor(19),\n",
              " tensor([9.5589e-06, 1.4716e-05, 4.2265e-07, 2.7424e-04, 1.0401e-04, 4.6468e-06,\n",
              "         3.8893e-01, 5.4015e-06, 4.7140e-05, 1.0962e-03, 4.9003e-05, 6.4448e-05,\n",
              "         6.6824e-08, 1.6380e-06, 7.8293e-07, 3.4420e-07, 2.5594e-07, 4.7783e-07,\n",
              "         4.7362e-05, 6.0924e-01, 4.7079e-08, 9.3915e-07, 7.7685e-07, 2.0426e-08,\n",
              "         1.5631e-06, 2.6564e-07, 5.4560e-05, 5.0258e-05]))"
            ]
          },
          "metadata": {},
          "execution_count": 10
        }
      ]
    },
    {
      "cell_type": "markdown",
      "source": [
        "# Inference 3\n",
        "\n",
        "Target: bus"
      ],
      "metadata": {
        "id": "l2zOIpvx_-gD"
      }
    },
    {
      "cell_type": "code",
      "source": [
        "img = Image.open(f'{img_path}/bus.jpg')\n",
        "img.to_thumb(128,128)"
      ],
      "metadata": {
        "colab": {
          "base_uri": "https://localhost:8080/",
          "height": 86
        },
        "id": "-8CcnY6zAJbR",
        "outputId": "865753fa-c567-4593-d45b-42f9ef9df407"
      },
      "execution_count": null,
      "outputs": [
        {
          "output_type": "execute_result",
          "data": {
            "text/plain": [
              "<PIL.Image.Image image mode=RGB size=128x69>"
            ],
            "image/png": "[encoded data removed]"
          },
          "metadata": {},
          "execution_count": 11
        }
      ]
    },
    {
      "cell_type": "code",
      "source": [
        "model.predict(f'{img_path}/bus.jpg')"
      ],
      "metadata": {
        "colab": {
          "base_uri": "https://localhost:8080/",
          "height": 145
        },
        "id": "mJWFs1r0AL4y",
        "outputId": "1e4973fc-7fd1-43e2-a9d0-25590566f41f"
      },
      "execution_count": null,
      "outputs": [
        {
          "output_type": "display_data",
          "data": {
            "text/plain": [
              "<IPython.core.display.HTML object>"
            ],
            "text/html": [
              "\n",
              "<style>\n",
              "    /* Turns off some styling */\n",
              "    progress {\n",
              "        /* gets rid of default border in Firefox and Opera. */\n",
              "        border: none;\n",
              "        /* Needs to be in here for Safari polyfill so background images work as expected. */\n",
              "        background-size: auto;\n",
              "    }\n",
              "    progress:not([value]), progress:not([value])::-webkit-progress-bar {\n",
              "        background: repeating-linear-gradient(45deg, #7e7e7e, #7e7e7e 10px, #5c5c5c 10px, #5c5c5c 20px);\n",
              "    }\n",
              "    .progress-bar-interrupted, .progress-bar-interrupted::-webkit-progress-bar {\n",
              "        background: #F44336;\n",
              "    }\n",
              "</style>\n"
            ]
          },
          "metadata": {}
        },
        {
          "output_type": "display_data",
          "data": {
            "text/plain": [
              "<IPython.core.display.HTML object>"
            ],
            "text/html": []
          },
          "metadata": {}
        },
        {
          "output_type": "execute_result",
          "data": {
            "text/plain": [
              "('Bus',\n",
              " tensor(7),\n",
              " tensor([2.0573e-07, 1.6527e-09, 2.1309e-07, 4.1563e-08, 5.4198e-09, 1.1142e-09,\n",
              "         1.4277e-09, 9.9999e-01, 6.9471e-08, 1.0350e-08, 1.6018e-08, 3.8570e-09,\n",
              "         1.1935e-06, 7.9701e-07, 2.1921e-07, 1.2095e-07, 3.7933e-09, 8.9491e-08,\n",
              "         1.1741e-06, 7.2571e-09, 3.9739e-09, 3.8366e-07, 1.0066e-07, 7.5525e-07,\n",
              "         1.2259e-09, 3.9064e-09, 5.6693e-06, 3.6122e-07]))"
            ]
          },
          "metadata": {},
          "execution_count": 12
        }
      ]
    },
    {
      "cell_type": "markdown",
      "source": [
        "# Inference 4\n",
        "\n",
        "Target: airplane"
      ],
      "metadata": {
        "id": "hte7OWxT__gZ"
      }
    },
    {
      "cell_type": "code",
      "source": [
        "img = Image.open(f'{img_path}/airplane.jpg')\n",
        "img.to_thumb(128,128)"
      ],
      "metadata": {
        "colab": {
          "base_uri": "https://localhost:8080/",
          "height": 102
        },
        "id": "TjRXxXmT_7Vx",
        "outputId": "99067abc-1b7b-471a-a50f-84edd35ccde3"
      },
      "execution_count": null,
      "outputs": [
        {
          "output_type": "execute_result",
          "data": {
            "text/plain": [
              "<PIL.Image.Image image mode=RGB size=128x85>"
            ],
            "image/png": "[encoded data removed]"
          },
          "metadata": {},
          "execution_count": 13
        }
      ]
    },
    {
      "cell_type": "code",
      "source": [
        "model.predict(f'{img_path}/airplane.jpg')"
      ],
      "metadata": {
        "colab": {
          "base_uri": "https://localhost:8080/",
          "height": 145
        },
        "id": "o-Ms_yCyAMnT",
        "outputId": "e3a59eb9-1e15-4c81-ce5d-3f18072af98f"
      },
      "execution_count": null,
      "outputs": [
        {
          "output_type": "display_data",
          "data": {
            "text/plain": [
              "<IPython.core.display.HTML object>"
            ],
            "text/html": [
              "\n",
              "<style>\n",
              "    /* Turns off some styling */\n",
              "    progress {\n",
              "        /* gets rid of default border in Firefox and Opera. */\n",
              "        border: none;\n",
              "        /* Needs to be in here for Safari polyfill so background images work as expected. */\n",
              "        background-size: auto;\n",
              "    }\n",
              "    progress:not([value]), progress:not([value])::-webkit-progress-bar {\n",
              "        background: repeating-linear-gradient(45deg, #7e7e7e, #7e7e7e 10px, #5c5c5c 10px, #5c5c5c 20px);\n",
              "    }\n",
              "    .progress-bar-interrupted, .progress-bar-interrupted::-webkit-progress-bar {\n",
              "        background: #F44336;\n",
              "    }\n",
              "</style>\n"
            ]
          },
          "metadata": {}
        },
        {
          "output_type": "display_data",
          "data": {
            "text/plain": [
              "<IPython.core.display.HTML object>"
            ],
            "text/html": []
          },
          "metadata": {}
        },
        {
          "output_type": "execute_result",
          "data": {
            "text/plain": [
              "('Airplane',\n",
              " tensor(1),\n",
              " tensor([1.6917e-06, 9.9946e-01, 8.0186e-08, 4.4336e-06, 1.8798e-07, 1.8914e-07,\n",
              "         1.3466e-06, 3.4989e-08, 1.2776e-07, 1.8003e-06, 4.2311e-04, 2.6633e-06,\n",
              "         7.5061e-07, 2.2523e-07, 5.4168e-05, 1.2060e-06, 2.7823e-07, 3.0808e-08,\n",
              "         4.5110e-06, 2.6312e-05, 1.3620e-07, 7.1417e-06, 4.4383e-06, 3.1136e-07,\n",
              "         8.1866e-07, 2.2556e-08, 3.0533e-06, 9.4001e-08]))"
            ]
          },
          "metadata": {},
          "execution_count": 14
        }
      ]
    }
  ]
}